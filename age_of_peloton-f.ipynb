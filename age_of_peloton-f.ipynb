{
 "cells": [
  {
   "cell_type": "code",
   "execution_count": 1,
   "id": "f2cfe971-2fa9-4289-8cd3-2543fb7cede7",
   "metadata": {},
   "outputs": [],
   "source": [
    "import pandas as pd\n",
    "import requests\n",
    "from bs4 import BeautifulSoup\n",
    "import matplotlib.pyplot as plt\n",
    "\n",
    "%matplotlib inline"
   ]
  },
  {
   "cell_type": "code",
   "execution_count": 2,
   "id": "80670e3d-a3d8-49b9-8136-911f602547a0",
   "metadata": {},
   "outputs": [],
   "source": [
    "urls = {'year':[],'url':[]}\n",
    "\n",
    "for year in range(1980,2024):\n",
    "    url = f'https://www.procyclingstats.com/statistics.php?season={year}&level=1&mw=2&filter=Filter&p=teams&s=youngest-teams'\n",
    "    urls['year'] += [year]\n",
    "    urls['url'] += [url]"
   ]
  },
  {
   "cell_type": "code",
   "execution_count": 3,
   "id": "a2809ac7-216b-4f73-8d9f-433bc21f1242",
   "metadata": {
    "tags": []
   },
   "outputs": [
    {
     "data": {
      "text/plain": [
       "{'year': [1980,\n",
       "  1981,\n",
       "  1982,\n",
       "  1983,\n",
       "  1984,\n",
       "  1985,\n",
       "  1986,\n",
       "  1987,\n",
       "  1988,\n",
       "  1989,\n",
       "  1990,\n",
       "  1991,\n",
       "  1992,\n",
       "  1993,\n",
       "  1994,\n",
       "  1995,\n",
       "  1996,\n",
       "  1997,\n",
       "  1998,\n",
       "  1999,\n",
       "  2000,\n",
       "  2001,\n",
       "  2002,\n",
       "  2003,\n",
       "  2004,\n",
       "  2005,\n",
       "  2006,\n",
       "  2007,\n",
       "  2008,\n",
       "  2009,\n",
       "  2010,\n",
       "  2011,\n",
       "  2012,\n",
       "  2013,\n",
       "  2014,\n",
       "  2015,\n",
       "  2016,\n",
       "  2017,\n",
       "  2018,\n",
       "  2019,\n",
       "  2020,\n",
       "  2021,\n",
       "  2022,\n",
       "  2023],\n",
       " 'url': ['https://www.procyclingstats.com/statistics.php?season=1980&level=1&mw=2&filter=Filter&p=teams&s=youngest-teams',\n",
       "  'https://www.procyclingstats.com/statistics.php?season=1981&level=1&mw=2&filter=Filter&p=teams&s=youngest-teams',\n",
       "  'https://www.procyclingstats.com/statistics.php?season=1982&level=1&mw=2&filter=Filter&p=teams&s=youngest-teams',\n",
       "  'https://www.procyclingstats.com/statistics.php?season=1983&level=1&mw=2&filter=Filter&p=teams&s=youngest-teams',\n",
       "  'https://www.procyclingstats.com/statistics.php?season=1984&level=1&mw=2&filter=Filter&p=teams&s=youngest-teams',\n",
       "  'https://www.procyclingstats.com/statistics.php?season=1985&level=1&mw=2&filter=Filter&p=teams&s=youngest-teams',\n",
       "  'https://www.procyclingstats.com/statistics.php?season=1986&level=1&mw=2&filter=Filter&p=teams&s=youngest-teams',\n",
       "  'https://www.procyclingstats.com/statistics.php?season=1987&level=1&mw=2&filter=Filter&p=teams&s=youngest-teams',\n",
       "  'https://www.procyclingstats.com/statistics.php?season=1988&level=1&mw=2&filter=Filter&p=teams&s=youngest-teams',\n",
       "  'https://www.procyclingstats.com/statistics.php?season=1989&level=1&mw=2&filter=Filter&p=teams&s=youngest-teams',\n",
       "  'https://www.procyclingstats.com/statistics.php?season=1990&level=1&mw=2&filter=Filter&p=teams&s=youngest-teams',\n",
       "  'https://www.procyclingstats.com/statistics.php?season=1991&level=1&mw=2&filter=Filter&p=teams&s=youngest-teams',\n",
       "  'https://www.procyclingstats.com/statistics.php?season=1992&level=1&mw=2&filter=Filter&p=teams&s=youngest-teams',\n",
       "  'https://www.procyclingstats.com/statistics.php?season=1993&level=1&mw=2&filter=Filter&p=teams&s=youngest-teams',\n",
       "  'https://www.procyclingstats.com/statistics.php?season=1994&level=1&mw=2&filter=Filter&p=teams&s=youngest-teams',\n",
       "  'https://www.procyclingstats.com/statistics.php?season=1995&level=1&mw=2&filter=Filter&p=teams&s=youngest-teams',\n",
       "  'https://www.procyclingstats.com/statistics.php?season=1996&level=1&mw=2&filter=Filter&p=teams&s=youngest-teams',\n",
       "  'https://www.procyclingstats.com/statistics.php?season=1997&level=1&mw=2&filter=Filter&p=teams&s=youngest-teams',\n",
       "  'https://www.procyclingstats.com/statistics.php?season=1998&level=1&mw=2&filter=Filter&p=teams&s=youngest-teams',\n",
       "  'https://www.procyclingstats.com/statistics.php?season=1999&level=1&mw=2&filter=Filter&p=teams&s=youngest-teams',\n",
       "  'https://www.procyclingstats.com/statistics.php?season=2000&level=1&mw=2&filter=Filter&p=teams&s=youngest-teams',\n",
       "  'https://www.procyclingstats.com/statistics.php?season=2001&level=1&mw=2&filter=Filter&p=teams&s=youngest-teams',\n",
       "  'https://www.procyclingstats.com/statistics.php?season=2002&level=1&mw=2&filter=Filter&p=teams&s=youngest-teams',\n",
       "  'https://www.procyclingstats.com/statistics.php?season=2003&level=1&mw=2&filter=Filter&p=teams&s=youngest-teams',\n",
       "  'https://www.procyclingstats.com/statistics.php?season=2004&level=1&mw=2&filter=Filter&p=teams&s=youngest-teams',\n",
       "  'https://www.procyclingstats.com/statistics.php?season=2005&level=1&mw=2&filter=Filter&p=teams&s=youngest-teams',\n",
       "  'https://www.procyclingstats.com/statistics.php?season=2006&level=1&mw=2&filter=Filter&p=teams&s=youngest-teams',\n",
       "  'https://www.procyclingstats.com/statistics.php?season=2007&level=1&mw=2&filter=Filter&p=teams&s=youngest-teams',\n",
       "  'https://www.procyclingstats.com/statistics.php?season=2008&level=1&mw=2&filter=Filter&p=teams&s=youngest-teams',\n",
       "  'https://www.procyclingstats.com/statistics.php?season=2009&level=1&mw=2&filter=Filter&p=teams&s=youngest-teams',\n",
       "  'https://www.procyclingstats.com/statistics.php?season=2010&level=1&mw=2&filter=Filter&p=teams&s=youngest-teams',\n",
       "  'https://www.procyclingstats.com/statistics.php?season=2011&level=1&mw=2&filter=Filter&p=teams&s=youngest-teams',\n",
       "  'https://www.procyclingstats.com/statistics.php?season=2012&level=1&mw=2&filter=Filter&p=teams&s=youngest-teams',\n",
       "  'https://www.procyclingstats.com/statistics.php?season=2013&level=1&mw=2&filter=Filter&p=teams&s=youngest-teams',\n",
       "  'https://www.procyclingstats.com/statistics.php?season=2014&level=1&mw=2&filter=Filter&p=teams&s=youngest-teams',\n",
       "  'https://www.procyclingstats.com/statistics.php?season=2015&level=1&mw=2&filter=Filter&p=teams&s=youngest-teams',\n",
       "  'https://www.procyclingstats.com/statistics.php?season=2016&level=1&mw=2&filter=Filter&p=teams&s=youngest-teams',\n",
       "  'https://www.procyclingstats.com/statistics.php?season=2017&level=1&mw=2&filter=Filter&p=teams&s=youngest-teams',\n",
       "  'https://www.procyclingstats.com/statistics.php?season=2018&level=1&mw=2&filter=Filter&p=teams&s=youngest-teams',\n",
       "  'https://www.procyclingstats.com/statistics.php?season=2019&level=1&mw=2&filter=Filter&p=teams&s=youngest-teams',\n",
       "  'https://www.procyclingstats.com/statistics.php?season=2020&level=1&mw=2&filter=Filter&p=teams&s=youngest-teams',\n",
       "  'https://www.procyclingstats.com/statistics.php?season=2021&level=1&mw=2&filter=Filter&p=teams&s=youngest-teams',\n",
       "  'https://www.procyclingstats.com/statistics.php?season=2022&level=1&mw=2&filter=Filter&p=teams&s=youngest-teams',\n",
       "  'https://www.procyclingstats.com/statistics.php?season=2023&level=1&mw=2&filter=Filter&p=teams&s=youngest-teams']}"
      ]
     },
     "execution_count": 3,
     "metadata": {},
     "output_type": "execute_result"
    }
   ],
   "source": [
    "urls"
   ]
  },
  {
   "cell_type": "code",
   "execution_count": 4,
   "id": "b1f656c5-74ce-46ca-922b-d4663239b9cf",
   "metadata": {
    "tags": []
   },
   "outputs": [
    {
     "data": {
      "text/plain": [
       "44"
      ]
     },
     "execution_count": 4,
     "metadata": {},
     "output_type": "execute_result"
    }
   ],
   "source": [
    "df_list = list()\n",
    "\n",
    "for item in urls['url']:\n",
    "    page = requests.get(item)\n",
    "    data = pd.read_html(page.text)[0]\n",
    "    df_list.append(data)\n",
    "    \n",
    "len(df_list)"
   ]
  },
  {
   "cell_type": "code",
   "execution_count": 5,
   "id": "b5295a45-82d1-4733-a6dd-27baeb4d84c9",
   "metadata": {},
   "outputs": [],
   "source": [
    "df = pd.concat(df_list)"
   ]
  },
  {
   "cell_type": "code",
   "execution_count": 6,
   "id": "70311125-2ce8-4dbf-8b43-1cd7dd21780d",
   "metadata": {},
   "outputs": [
    {
     "data": {
      "text/plain": [
       "array([2000, 2001, 2002, 2003, 2004, 2005, 2006, 2007, 2008, 2009, 2010,\n",
       "       2011, 2012, 2013, 2014, 2015, 2016, 2017, 2018, 2019, 2020, 2021,\n",
       "       2022, 2023], dtype=object)"
      ]
     },
     "execution_count": 6,
     "metadata": {},
     "output_type": "execute_result"
    }
   ],
   "source": [
    "df.Season.unique()"
   ]
  },
  {
   "cell_type": "code",
   "execution_count": 7,
   "id": "a673a44e-6940-4625-86b0-fe1b7be1598f",
   "metadata": {},
   "outputs": [
    {
     "name": "stdout",
     "output_type": "stream",
     "text": [
      "<class 'pandas.core.frame.DataFrame'>\n",
      "Int64Index: 524 entries, 0 to 14\n",
      "Data columns (total 5 columns):\n",
      " #   Column       Non-Null Count  Dtype  \n",
      "---  ------       --------------  -----  \n",
      " 0   #            524 non-null    object \n",
      " 1   Season       524 non-null    object \n",
      " 2   Team         524 non-null    object \n",
      " 3   Class        493 non-null    object \n",
      " 4   Average age  524 non-null    float64\n",
      "dtypes: float64(1), object(4)\n",
      "memory usage: 24.6+ KB\n"
     ]
    }
   ],
   "source": [
    "df.info()"
   ]
  },
  {
   "cell_type": "code",
   "execution_count": 8,
   "id": "effa19e5-0687-4fd4-8de6-40b90549ce49",
   "metadata": {},
   "outputs": [],
   "source": [
    "df = df.drop(columns=['#']).rename(columns={'Average age':'avg_age'})"
   ]
  },
  {
   "cell_type": "code",
   "execution_count": 9,
   "id": "57971434-a9f5-4bd9-a09c-d975f6a10e91",
   "metadata": {},
   "outputs": [
    {
     "data": {
      "text/html": [
       "<div>\n",
       "<style scoped>\n",
       "    .dataframe tbody tr th:only-of-type {\n",
       "        vertical-align: middle;\n",
       "    }\n",
       "\n",
       "    .dataframe tbody tr th {\n",
       "        vertical-align: top;\n",
       "    }\n",
       "\n",
       "    .dataframe thead th {\n",
       "        text-align: right;\n",
       "    }\n",
       "</style>\n",
       "<table border=\"1\" class=\"dataframe\">\n",
       "  <thead>\n",
       "    <tr style=\"text-align: right;\">\n",
       "      <th></th>\n",
       "      <th>Season</th>\n",
       "      <th>Team</th>\n",
       "      <th>Class</th>\n",
       "      <th>avg_age</th>\n",
       "    </tr>\n",
       "  </thead>\n",
       "  <tbody>\n",
       "    <tr>\n",
       "      <th>5</th>\n",
       "      <td>2023</td>\n",
       "      <td>Canyon//SRAM Racing</td>\n",
       "      <td>WTW</td>\n",
       "      <td>25.5</td>\n",
       "    </tr>\n",
       "    <tr>\n",
       "      <th>6</th>\n",
       "      <td>2023</td>\n",
       "      <td>Team SD Worx</td>\n",
       "      <td>WTW</td>\n",
       "      <td>25.9</td>\n",
       "    </tr>\n",
       "    <tr>\n",
       "      <th>7</th>\n",
       "      <td>2023</td>\n",
       "      <td>Israel Premier Tech Roland</td>\n",
       "      <td>WTW</td>\n",
       "      <td>25.9</td>\n",
       "    </tr>\n",
       "    <tr>\n",
       "      <th>8</th>\n",
       "      <td>2023</td>\n",
       "      <td>UAE Team ADQ</td>\n",
       "      <td>WTW</td>\n",
       "      <td>25.9</td>\n",
       "    </tr>\n",
       "    <tr>\n",
       "      <th>9</th>\n",
       "      <td>2023</td>\n",
       "      <td>FDJ - SUEZ</td>\n",
       "      <td>WTW</td>\n",
       "      <td>25.9</td>\n",
       "    </tr>\n",
       "    <tr>\n",
       "      <th>10</th>\n",
       "      <td>2023</td>\n",
       "      <td>Liv Racing TeqFind</td>\n",
       "      <td>WTW</td>\n",
       "      <td>26.5</td>\n",
       "    </tr>\n",
       "    <tr>\n",
       "      <th>11</th>\n",
       "      <td>2023</td>\n",
       "      <td>Team Jayco AlUla</td>\n",
       "      <td>WTW</td>\n",
       "      <td>27.1</td>\n",
       "    </tr>\n",
       "    <tr>\n",
       "      <th>12</th>\n",
       "      <td>2023</td>\n",
       "      <td>Movistar Team</td>\n",
       "      <td>WTW</td>\n",
       "      <td>27.5</td>\n",
       "    </tr>\n",
       "    <tr>\n",
       "      <th>13</th>\n",
       "      <td>2023</td>\n",
       "      <td>EF Education-TIBCO-SVB</td>\n",
       "      <td>WTW</td>\n",
       "      <td>27.6</td>\n",
       "    </tr>\n",
       "    <tr>\n",
       "      <th>14</th>\n",
       "      <td>2023</td>\n",
       "      <td>Trek - Segafredo</td>\n",
       "      <td>WTW</td>\n",
       "      <td>28.6</td>\n",
       "    </tr>\n",
       "  </tbody>\n",
       "</table>\n",
       "</div>"
      ],
      "text/plain": [
       "   Season                        Team Class  avg_age\n",
       "5    2023         Canyon//SRAM Racing   WTW     25.5\n",
       "6    2023                Team SD Worx   WTW     25.9\n",
       "7    2023  Israel Premier Tech Roland   WTW     25.9\n",
       "8    2023                UAE Team ADQ   WTW     25.9\n",
       "9    2023                  FDJ - SUEZ   WTW     25.9\n",
       "10   2023          Liv Racing TeqFind   WTW     26.5\n",
       "11   2023            Team Jayco AlUla   WTW     27.1\n",
       "12   2023               Movistar Team   WTW     27.5\n",
       "13   2023      EF Education-TIBCO-SVB   WTW     27.6\n",
       "14   2023            Trek - Segafredo   WTW     28.6"
      ]
     },
     "execution_count": 9,
     "metadata": {},
     "output_type": "execute_result"
    }
   ],
   "source": [
    "df.tail(10)"
   ]
  },
  {
   "cell_type": "code",
   "execution_count": 10,
   "id": "490621c7-9f2b-47a3-a5eb-19dcb6dc3b59",
   "metadata": {},
   "outputs": [
    {
     "data": {
      "image/png": "[encoded data removed]",
      "text/plain": [
       "<Figure size 1500x500 with 1 Axes>"
      ]
     },
     "metadata": {},
     "output_type": "display_data"
    }
   ],
   "source": [
    "average_df = df.groupby('Season').agg({'avg_age':'mean'})\n",
    "\n",
    "average_df.plot(kind='line',figsize=(15,5))\n",
    "plt.show()"
   ]
  },
  {
   "cell_type": "code",
   "execution_count": 11,
   "id": "cb55e639-827a-4e15-9956-5a3e04997cac",
   "metadata": {},
   "outputs": [
    {
     "data": {
      "text/html": [
       "<div>\n",
       "<style scoped>\n",
       "    .dataframe tbody tr th:only-of-type {\n",
       "        vertical-align: middle;\n",
       "    }\n",
       "\n",
       "    .dataframe tbody tr th {\n",
       "        vertical-align: top;\n",
       "    }\n",
       "\n",
       "    .dataframe thead th {\n",
       "        text-align: right;\n",
       "    }\n",
       "</style>\n",
       "<table border=\"1\" class=\"dataframe\">\n",
       "  <thead>\n",
       "    <tr style=\"text-align: right;\">\n",
       "      <th></th>\n",
       "      <th>avg_age</th>\n",
       "    </tr>\n",
       "    <tr>\n",
       "      <th>Season</th>\n",
       "      <th></th>\n",
       "    </tr>\n",
       "  </thead>\n",
       "  <tbody>\n",
       "  </tbody>\n",
       "</table>\n",
       "</div>"
      ],
      "text/plain": [
       "Empty DataFrame\n",
       "Columns: [avg_age]\n",
       "Index: []"
      ]
     },
     "execution_count": 11,
     "metadata": {},
     "output_type": "execute_result"
    }
   ],
   "source": [
    "average_df[30:]"
   ]
  },
  {
   "cell_type": "code",
   "execution_count": 12,
   "id": "41008605-2b3c-47a3-80fb-00b192c11ef4",
   "metadata": {},
   "outputs": [
    {
     "data": {
      "image/png": "[encoded data removed]",
      "text/plain": [
       "<Figure size 1500x500 with 1 Axes>"
      ]
     },
     "metadata": {},
     "output_type": "display_data"
    }
   ],
   "source": [
    "std_df = df.groupby(by=['Season'])['avg_age'].std()\n",
    "\n",
    "std_df.plot(kind='line',figsize=(15,5))\n",
    "plt.show()"
   ]
  },
  {
   "cell_type": "code",
   "execution_count": 13,
   "id": "efaf261d-4585-424b-abfe-f1f28e0e762c",
   "metadata": {},
   "outputs": [
    {
     "data": {
      "text/plain": [
       "34.7"
      ]
     },
     "execution_count": 13,
     "metadata": {},
     "output_type": "execute_result"
    }
   ],
   "source": [
    "df['avg_age'].max()"
   ]
  },
  {
   "cell_type": "code",
   "execution_count": 14,
   "id": "52133abc-8bec-4708-b410-24532ace3c66",
   "metadata": {},
   "outputs": [
    {
     "data": {
      "text/html": [
       "<div>\n",
       "<style scoped>\n",
       "    .dataframe tbody tr th:only-of-type {\n",
       "        vertical-align: middle;\n",
       "    }\n",
       "\n",
       "    .dataframe tbody tr th {\n",
       "        vertical-align: top;\n",
       "    }\n",
       "\n",
       "    .dataframe thead th {\n",
       "        text-align: right;\n",
       "    }\n",
       "</style>\n",
       "<table border=\"1\" class=\"dataframe\">\n",
       "  <thead>\n",
       "    <tr style=\"text-align: right;\">\n",
       "      <th></th>\n",
       "      <th>Season</th>\n",
       "      <th>Team</th>\n",
       "      <th>Class</th>\n",
       "      <th>avg_age</th>\n",
       "    </tr>\n",
       "  </thead>\n",
       "  <tbody>\n",
       "  </tbody>\n",
       "</table>\n",
       "</div>"
      ],
      "text/plain": [
       "Empty DataFrame\n",
       "Columns: [Season, Team, Class, avg_age]\n",
       "Index: []"
      ]
     },
     "execution_count": 14,
     "metadata": {},
     "output_type": "execute_result"
    }
   ],
   "source": [
    "df.query('1997 < Season < 1999')"
   ]
  },
  {
   "cell_type": "code",
   "execution_count": null,
   "id": "799eb86b-8e31-474e-b733-142efc271c13",
   "metadata": {},
   "outputs": [],
   "source": []
  }
 ],
 "metadata": {
  "kernelspec": {
   "display_name": "Python 3 (ipykernel)",
   "language": "python",
   "name": "python3"
  },
  "language_info": {
   "codemirror_mode": {
    "name": "ipython",
    "version": 3
   },
   "file_extension": ".py",
   "mimetype": "text/x-python",
   "name": "python",
   "nbconvert_exporter": "python",
   "pygments_lexer": "ipython3",
   "version": "3.10.8"
  }
 },
 "nbformat": 4,
 "nbformat_minor": 5
}
