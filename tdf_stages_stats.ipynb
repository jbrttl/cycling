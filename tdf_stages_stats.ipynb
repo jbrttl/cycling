{
 "cells": [
  {
   "cell_type": "code",
   "execution_count": 183,
   "id": "d87dc28d-2724-4888-83bd-829d4fa32930",
   "metadata": {},
   "outputs": [],
   "source": [
    "import pandas as pd\n",
    "import requests\n",
    "from bs4 import BeautifulSoup\n",
    "import numpy as np\n",
    "import matplotlib.pyplot as plt\n",
    "import matplotlib.dates as mdates\n",
    "import time\n",
    "import tqdm"
   ]
  },
  {
   "cell_type": "code",
   "execution_count": 153,
   "id": "dc3164df-b6e6-4d65-8de6-4a881453dc87",
   "metadata": {},
   "outputs": [],
   "source": [
    "header = {\n",
    "  \"User-Agent\": \"Mozilla/5.0 (X11; Linux x86_64) AppleWebKit/537.36 (KHTML, like Gecko) Chrome/50.0.2661.75 Safari/537.36\",\n",
    "  \"X-Requested-With\": \"XMLHttpRequest\"\n",
    "}"
   ]
  },
  {
   "cell_type": "code",
   "execution_count": 154,
   "id": "f362bc30-debd-4e73-9f65-5e601f61549d",
   "metadata": {},
   "outputs": [],
   "source": [
    "races_dict = {\n",
    "    \"msr\":\"https://www.procyclingstats.com/race/milano-sanremo/2022\",\n",
    "    }"
   ]
  },
  {
   "cell_type": "code",
   "execution_count": 176,
   "id": "07435e7a-3202-4509-b09b-730e7d6efbbf",
   "metadata": {},
   "outputs": [
    {
     "name": "stdout",
     "output_type": "stream",
     "text": [
      "672\n"
     ]
    }
   ],
   "source": [
    "stages = range(1,22) # 22\n",
    "years = range(1990,2022)\n",
    "stages_dict = {}\n",
    "\n",
    "for year in years:\n",
    "    for stage in stages:\n",
    "        stage_name = f\"tdf_{stage}_{year}\"\n",
    "        url = f\"https://www.procyclingstats.com/race/tour-de-france/{year}/stage-{stage}\"\n",
    "        stages_dict[stage_name] = url\n",
    "\n",
    "print(len(stages_dict))"
   ]
  },
  {
   "cell_type": "code",
   "execution_count": 186,
   "id": "9826dde0-b6fb-458d-a1a1-5f2693bc2e91",
   "metadata": {},
   "outputs": [],
   "source": [
    "def get_data(races_dict: dict) -> dict:\n",
    "    data_list = []\n",
    "    error_log = dict()\n",
    "    print(\"Getting...\")\n",
    "    for race in tqdm.tqdm(races_dict, desc=\"Progress bar on fetching stages data\", unit=\"stage\"):\n",
    "        try:\n",
    "            #print(f\"{race}\")\n",
    "            time.sleep(1)\n",
    "            url = races_dict[race]\n",
    "            page = requests.get(url, headers=header)\n",
    "            soup = BeautifulSoup(page.content, 'html.parser')\n",
    "            data = soup.find('ul',{'class':'infolist'}).get_text().strip().split('\\n')\n",
    "            data_dict = {point.split(': ')[0].strip():point.split(': ')[1].strip() for point in data}\n",
    "            data_dict['Race'] = race\n",
    "            yield data_dict\n",
    "            \n",
    "        except AttributeError as e:\n",
    "            error_log[race] = e"
   ]
  },
  {
   "cell_type": "code",
   "execution_count": null,
   "id": "6dea35e3-3454-4f29-9584-a832a72e5514",
   "metadata": {},
   "outputs": [
    {
     "name": "stdout",
     "output_type": "stream",
     "text": [
      "Getting...\n"
     ]
    },
    {
     "name": "stderr",
     "output_type": "stream",
     "text": [
      "Progress bar on fetching stages data::  12%|█████                                   | 84/672 [05:53<50:20,  5.14s/stage]"
     ]
    },
    {
     "name": "stdout",
     "output_type": "stream",
     "text": [
      "'NoneType' object has no attribute 'get_text'\n",
      "Issue with stage tdf_21_1993\n"
     ]
    },
    {
     "name": "stderr",
     "output_type": "stream",
     "text": [
      "Progress bar on fetching stages data::  19%|███████▎                               | 126/672 [08:23<31:17,  3.44s/stage]"
     ]
    },
    {
     "name": "stdout",
     "output_type": "stream",
     "text": [
      "'NoneType' object has no attribute 'get_text'\n",
      "Issue with stage tdf_21_1995\n"
     ]
    },
    {
     "name": "stderr",
     "output_type": "stream",
     "text": [
      "Progress bar on fetching stages data::  28%|██████████▋                            | 185/672 [12:04<29:03,  3.58s/stage]"
     ]
    },
    {
     "name": "stdout",
     "output_type": "stream",
     "text": [
      "'NoneType' object has no attribute 'get_text'\n",
      "Issue with stage tdf_17_1998\n"
     ]
    },
    {
     "name": "stderr",
     "output_type": "stream",
     "text": [
      "Progress bar on fetching stages data::  31%|████████████▏                          | 210/672 [13:40<32:01,  4.16s/stage]"
     ]
    },
    {
     "name": "stdout",
     "output_type": "stream",
     "text": [
      "'NoneType' object has no attribute 'get_text'\n",
      "Issue with stage tdf_21_1999\n"
     ]
    },
    {
     "name": "stderr",
     "output_type": "stream",
     "text": [
      "Progress bar on fetching stages data::  38%|██████████████▋                        | 252/672 [16:21<26:57,  3.85s/stage]"
     ]
    },
    {
     "name": "stdout",
     "output_type": "stream",
     "text": [
      "'NoneType' object has no attribute 'get_text'\n",
      "Issue with stage tdf_21_2001\n"
     ]
    },
    {
     "name": "stderr",
     "output_type": "stream",
     "text": [
      "Progress bar on fetching stages data::  41%|███████████████▊                       | 273/672 [17:41<24:46,  3.73s/stage]"
     ]
    },
    {
     "name": "stdout",
     "output_type": "stream",
     "text": [
      "'NoneType' object has no attribute 'get_text'\n",
      "Issue with stage tdf_21_2002\n"
     ]
    },
    {
     "name": "stderr",
     "output_type": "stream",
     "text": [
      "Progress bar on fetching stages data::  44%|█████████████████                      | 294/672 [19:00<22:31,  3.58s/stage]"
     ]
    },
    {
     "name": "stdout",
     "output_type": "stream",
     "text": [
      "'NoneType' object has no attribute 'get_text'\n",
      "Issue with stage tdf_21_2003\n"
     ]
    },
    {
     "name": "stderr",
     "output_type": "stream",
     "text": [
      "Progress bar on fetching stages data::  47%|██████████████████▎                    | 315/672 [20:19<22:05,  3.71s/stage]"
     ]
    },
    {
     "name": "stdout",
     "output_type": "stream",
     "text": [
      "'NoneType' object has no attribute 'get_text'\n",
      "Issue with stage tdf_21_2004\n"
     ]
    },
    {
     "name": "stderr",
     "output_type": "stream",
     "text": [
      "Progress bar on fetching stages data::  53%|████████████████████▋                  | 357/672 [22:56<18:55,  3.60s/stage]"
     ]
    },
    {
     "name": "stdout",
     "output_type": "stream",
     "text": [
      "'NoneType' object has no attribute 'get_text'\n",
      "Issue with stage tdf_21_2006\n"
     ]
    },
    {
     "name": "stderr",
     "output_type": "stream",
     "text": [
      "Progress bar on fetching stages data::  56%|█████████████████████▉                 | 378/672 [24:15<18:02,  3.68s/stage]"
     ]
    },
    {
     "name": "stdout",
     "output_type": "stream",
     "text": [
      "'NoneType' object has no attribute 'get_text'\n",
      "Issue with stage tdf_21_2007\n"
     ]
    },
    {
     "name": "stderr",
     "output_type": "stream",
     "text": [
      "Progress bar on fetching stages data::  66%|█████████████████████████▌             | 441/672 [28:14<14:05,  3.66s/stage]"
     ]
    },
    {
     "name": "stdout",
     "output_type": "stream",
     "text": [
      "'NoneType' object has no attribute 'get_text'\n",
      "Issue with stage tdf_21_2010\n"
     ]
    },
    {
     "name": "stderr",
     "output_type": "stream",
     "text": [
      "Progress bar on fetching stages data::  72%|████████████████████████████           | 483/672 [30:56<11:32,  3.66s/stage]"
     ]
    },
    {
     "name": "stdout",
     "output_type": "stream",
     "text": [
      "'NoneType' object has no attribute 'get_text'\n",
      "Issue with stage tdf_21_2012\n"
     ]
    },
    {
     "name": "stderr",
     "output_type": "stream",
     "text": [
      "Progress bar on fetching stages data::  86%|█████████████████████████████████▍     | 577/672 [36:55<06:00,  3.80s/stage]"
     ]
    }
   ],
   "source": [
    "data_list = [pd.DataFrame(data, index=[0]) for data in get_data(stages_dict)]"
   ]
  },
  {
   "cell_type": "code",
   "execution_count": null,
   "id": "d7ec1074-192c-421d-ad99-e82da282de5c",
   "metadata": {},
   "outputs": [],
   "source": [
    "df = pd.concat(data_list)"
   ]
  },
  {
   "cell_type": "code",
   "execution_count": null,
   "id": "033aa0a9-9d0c-4ef7-bc18-9de5c9174232",
   "metadata": {},
   "outputs": [],
   "source": []
  }
 ],
 "metadata": {
  "kernelspec": {
   "display_name": "Python 3 (ipykernel)",
   "language": "python",
   "name": "python3"
  },
  "language_info": {
   "codemirror_mode": {
    "name": "ipython",
    "version": 3
   },
   "file_extension": ".py",
   "mimetype": "text/x-python",
   "name": "python",
   "nbconvert_exporter": "python",
   "pygments_lexer": "ipython3",
   "version": "3.9.7"
  }
 },
 "nbformat": 4,
 "nbformat_minor": 5
}
