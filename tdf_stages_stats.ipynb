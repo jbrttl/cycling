{
 "cells": [
  {
   "cell_type": "code",
   "execution_count": 183,
   "id": "d87dc28d-2724-4888-83bd-829d4fa32930",
   "metadata": {},
   "outputs": [],
   "source": [
    "import pandas as pd\n",
    "import requests\n",
    "from bs4 import BeautifulSoup\n",
    "import numpy as np\n",
    "import matplotlib.pyplot as plt\n",
    "import matplotlib.dates as mdates\n",
    "import time\n",
    "import tqdm"
   ]
  },
  {
   "cell_type": "code",
   "execution_count": 153,
   "id": "dc3164df-b6e6-4d65-8de6-4a881453dc87",
   "metadata": {},
   "outputs": [],
   "source": [
    "header = {\n",
    "  \"User-Agent\": \"Mozilla/5.0 (X11; Linux x86_64) AppleWebKit/537.36 (KHTML, like Gecko) Chrome/50.0.2661.75 Safari/537.36\",\n",
    "  \"X-Requested-With\": \"XMLHttpRequest\"\n",
    "}"
   ]
  },
  {
   "cell_type": "code",
   "execution_count": 154,
   "id": "f362bc30-debd-4e73-9f65-5e601f61549d",
   "metadata": {},
   "outputs": [],
   "source": [
    "races_dict = {\n",
    "    \"msr\":\"https://www.procyclingstats.com/race/milano-sanremo/2022\",\n",
    "    }"
   ]
  },
  {
   "cell_type": "code",
   "execution_count": 176,
   "id": "07435e7a-3202-4509-b09b-730e7d6efbbf",
   "metadata": {},
   "outputs": [
    {
     "name": "stdout",
     "output_type": "stream",
     "text": [
      "672\n"
     ]
    }
   ],
   "source": [
    "stages = range(1,22) # 22\n",
    "years = range(1990,2022)\n",
    "stages_dict = {}\n",
    "\n",
    "for year in years:\n",
    "    for stage in stages:\n",
    "        stage_name = f\"tdf_{stage}_{year}\"\n",
    "        url = f\"https://www.procyclingstats.com/race/tour-de-france/{year}/stage-{stage}\"\n",
    "        stages_dict[stage_name] = url\n",
    "\n",
    "print(len(stages_dict))"
   ]
  },
  {
   "cell_type": "code",
   "execution_count": 186,
   "id": "9826dde0-b6fb-458d-a1a1-5f2693bc2e91",
   "metadata": {},
   "outputs": [],
   "source": [
    "def get_data(races_dict: dict) -> dict:\n",
    "    data_list = []\n",
    "    error_log = dict()\n",
    "    print(\"Getting...\")\n",
    "    for race in tqdm.tqdm(races_dict, desc=\"Progress bar on fetching stages data\", unit=\"stage\"):\n",
    "        try:\n",
    "            #print(f\"{race}\")\n",
    "            time.sleep(1)\n",
    "            url = races_dict[race]\n",
    "            page = requests.get(url, headers=header)\n",
    "            soup = BeautifulSoup(page.content, 'html.parser')\n",
    "            data = soup.find('ul',{'class':'infolist'}).get_text().strip().split('\\n')\n",
    "            data_dict = {point.split(': ')[0].strip():point.split(': ')[1].strip() for point in data}\n",
    "            data_dict['Race'] = race\n",
    "            yield data_dict\n",
    "            \n",
    "        except AttributeError as e:\n",
    "            error_log[race] = e"
   ]
  },
  {
   "cell_type": "code",
   "execution_count": 187,
   "id": "6dea35e3-3454-4f29-9584-a832a72e5514",
   "metadata": {},
   "outputs": [
    {
     "name": "stdout",
     "output_type": "stream",
     "text": [
      "Getting...\n"
     ]
    },
    {
     "name": "stderr",
     "output_type": "stream",
     "text": [
      "Progress bar on fetching stages data::  12%|█████                                   | 84/672 [05:53<50:20,  5.14s/stage]"
     ]
    },
    {
     "name": "stdout",
     "output_type": "stream",
     "text": [
      "'NoneType' object has no attribute 'get_text'\n",
      "Issue with stage tdf_21_1993\n"
     ]
    },
    {
     "name": "stderr",
     "output_type": "stream",
     "text": [
      "Progress bar on fetching stages data::  19%|███████▎                               | 126/672 [08:23<31:17,  3.44s/stage]"
     ]
    },
    {
     "name": "stdout",
     "output_type": "stream",
     "text": [
      "'NoneType' object has no attribute 'get_text'\n",
      "Issue with stage tdf_21_1995\n"
     ]
    },
    {
     "name": "stderr",
     "output_type": "stream",
     "text": [
      "Progress bar on fetching stages data::  28%|██████████▋                            | 185/672 [12:04<29:03,  3.58s/stage]"
     ]
    },
    {
     "name": "stdout",
     "output_type": "stream",
     "text": [
      "'NoneType' object has no attribute 'get_text'\n",
      "Issue with stage tdf_17_1998\n"
     ]
    },
    {
     "name": "stderr",
     "output_type": "stream",
     "text": [
      "Progress bar on fetching stages data::  31%|████████████▏                          | 210/672 [13:40<32:01,  4.16s/stage]"
     ]
    },
    {
     "name": "stdout",
     "output_type": "stream",
     "text": [
      "'NoneType' object has no attribute 'get_text'\n",
      "Issue with stage tdf_21_1999\n"
     ]
    },
    {
     "name": "stderr",
     "output_type": "stream",
     "text": [
      "Progress bar on fetching stages data::  38%|██████████████▋                        | 252/672 [16:21<26:57,  3.85s/stage]"
     ]
    },
    {
     "name": "stdout",
     "output_type": "stream",
     "text": [
      "'NoneType' object has no attribute 'get_text'\n",
      "Issue with stage tdf_21_2001\n"
     ]
    },
    {
     "name": "stderr",
     "output_type": "stream",
     "text": [
      "Progress bar on fetching stages data::  41%|███████████████▊                       | 273/672 [17:41<24:46,  3.73s/stage]"
     ]
    },
    {
     "name": "stdout",
     "output_type": "stream",
     "text": [
      "'NoneType' object has no attribute 'get_text'\n",
      "Issue with stage tdf_21_2002\n"
     ]
    },
    {
     "name": "stderr",
     "output_type": "stream",
     "text": [
      "Progress bar on fetching stages data::  44%|█████████████████                      | 294/672 [19:00<22:31,  3.58s/stage]"
     ]
    },
    {
     "name": "stdout",
     "output_type": "stream",
     "text": [
      "'NoneType' object has no attribute 'get_text'\n",
      "Issue with stage tdf_21_2003\n"
     ]
    },
    {
     "name": "stderr",
     "output_type": "stream",
     "text": [
      "Progress bar on fetching stages data::  47%|██████████████████▎                    | 315/672 [20:19<22:05,  3.71s/stage]"
     ]
    },
    {
     "name": "stdout",
     "output_type": "stream",
     "text": [
      "'NoneType' object has no attribute 'get_text'\n",
      "Issue with stage tdf_21_2004\n"
     ]
    },
    {
     "name": "stderr",
     "output_type": "stream",
     "text": [
      "Progress bar on fetching stages data::  53%|████████████████████▋                  | 357/672 [22:56<18:55,  3.60s/stage]"
     ]
    },
    {
     "name": "stdout",
     "output_type": "stream",
     "text": [
      "'NoneType' object has no attribute 'get_text'\n",
      "Issue with stage tdf_21_2006\n"
     ]
    },
    {
     "name": "stderr",
     "output_type": "stream",
     "text": [
      "Progress bar on fetching stages data::  56%|█████████████████████▉                 | 378/672 [24:15<18:02,  3.68s/stage]"
     ]
    },
    {
     "name": "stdout",
     "output_type": "stream",
     "text": [
      "'NoneType' object has no attribute 'get_text'\n",
      "Issue with stage tdf_21_2007\n"
     ]
    },
    {
     "name": "stderr",
     "output_type": "stream",
     "text": [
      "Progress bar on fetching stages data::  66%|█████████████████████████▌             | 441/672 [28:14<14:05,  3.66s/stage]"
     ]
    },
    {
     "name": "stdout",
     "output_type": "stream",
     "text": [
      "'NoneType' object has no attribute 'get_text'\n",
      "Issue with stage tdf_21_2010\n"
     ]
    },
    {
     "name": "stderr",
     "output_type": "stream",
     "text": [
      "Progress bar on fetching stages data::  72%|████████████████████████████           | 483/672 [30:56<11:32,  3.66s/stage]"
     ]
    },
    {
     "name": "stdout",
     "output_type": "stream",
     "text": [
      "'NoneType' object has no attribute 'get_text'\n",
      "Issue with stage tdf_21_2012\n"
     ]
    },
    {
     "name": "stderr",
     "output_type": "stream",
     "text": [
      "Progress bar on fetching stages data:: 100%|███████████████████████████████████████| 672/672 [42:57<00:00,  3.84s/stage]\n"
     ]
    }
   ],
   "source": [
    "data_list = [pd.DataFrame(data, index=[0]) for data in get_data(stages_dict)]"
   ]
  },
  {
   "cell_type": "code",
   "execution_count": 263,
   "id": "d7ec1074-192c-421d-ad99-e82da282de5c",
   "metadata": {},
   "outputs": [],
   "source": [
    "df = pd.concat(data_list).reset_index(drop=True)\n",
    "\n",
    "df.columns = ['date','start_time','avg_speed','race_category','distance','points_scale',\n",
    "              'parcour_type','profile_score','elevation','departure','arrival','race_ranking',\n",
    "              'startlist_quality_score','won_how','race']\n",
    "\n",
    "distance = df.distance.str.split(' ',expand=True)\n",
    "avg_speed = df.avg_speed.str.split(' ',expand=True)\n",
    "\n",
    "df.distance = distance[0]\n",
    "df['distance_units'] = distance[1]\n",
    "\n",
    "df.avg_speed = avg_speed[0]\n",
    "df['avg_speed_units'] = avg_speed[1]\n",
    "\n",
    "df.date = pd.to_datetime(df.date).dt.date\n",
    "df['year'] = pd.to_datetime(df.date).dt.year\n",
    "\n",
    "df.distance = pd.to_numeric(df.distance)\n",
    "df.elevation = pd.to_numeric(df.elevation)\n",
    "\n",
    "#df['year'] = df.date.dt.year"
   ]
  },
  {
   "cell_type": "code",
   "execution_count": 264,
   "id": "033aa0a9-9d0c-4ef7-bc18-9de5c9174232",
   "metadata": {},
   "outputs": [
    {
     "data": {
      "text/html": [
       "<div>\n",
       "<style scoped>\n",
       "    .dataframe tbody tr th:only-of-type {\n",
       "        vertical-align: middle;\n",
       "    }\n",
       "\n",
       "    .dataframe tbody tr th {\n",
       "        vertical-align: top;\n",
       "    }\n",
       "\n",
       "    .dataframe thead th {\n",
       "        text-align: right;\n",
       "    }\n",
       "</style>\n",
       "<table border=\"1\" class=\"dataframe\">\n",
       "  <thead>\n",
       "    <tr style=\"text-align: right;\">\n",
       "      <th></th>\n",
       "      <th>date</th>\n",
       "      <th>start_time</th>\n",
       "      <th>avg_speed</th>\n",
       "      <th>race_category</th>\n",
       "      <th>distance</th>\n",
       "      <th>points_scale</th>\n",
       "      <th>parcour_type</th>\n",
       "      <th>profile_score</th>\n",
       "      <th>elevation</th>\n",
       "      <th>departure</th>\n",
       "      <th>arrival</th>\n",
       "      <th>race_ranking</th>\n",
       "      <th>startlist_quality_score</th>\n",
       "      <th>won_how</th>\n",
       "      <th>race</th>\n",
       "      <th>distance_units</th>\n",
       "      <th>avg_speed_units</th>\n",
       "      <th>year</th>\n",
       "    </tr>\n",
       "  </thead>\n",
       "  <tbody>\n",
       "    <tr>\n",
       "      <th>0</th>\n",
       "      <td>1990-07-01</td>\n",
       "      <td>-</td>\n",
       "      <td>41.76</td>\n",
       "      <td>ME - Men Elite</td>\n",
       "      <td>138.5</td>\n",
       "      <td>GT.A.Stage</td>\n",
       "      <td></td>\n",
       "      <td></td>\n",
       "      <td>NaN</td>\n",
       "      <td>Futuroscope</td>\n",
       "      <td>Futuroscope</td>\n",
       "      <td>249</td>\n",
       "      <td>0</td>\n",
       "      <td>? - let us know!</td>\n",
       "      <td>tdf_1_1990</td>\n",
       "      <td>km</td>\n",
       "      <td>km/h</td>\n",
       "      <td>1990</td>\n",
       "    </tr>\n",
       "    <tr>\n",
       "      <th>1</th>\n",
       "      <td>1990-07-01</td>\n",
       "      <td>-</td>\n",
       "      <td>50</td>\n",
       "      <td>ME - Men Elite</td>\n",
       "      <td>44.5</td>\n",
       "      <td>GT.A.TTT</td>\n",
       "      <td></td>\n",
       "      <td></td>\n",
       "      <td>NaN</td>\n",
       "      <td>Futuroscope</td>\n",
       "      <td>Futuroscope</td>\n",
       "      <td>249</td>\n",
       "      <td>0</td>\n",
       "      <td>Time Trial</td>\n",
       "      <td>tdf_2_1990</td>\n",
       "      <td>km</td>\n",
       "      <td>km/h</td>\n",
       "      <td>1990</td>\n",
       "    </tr>\n",
       "    <tr>\n",
       "      <th>2</th>\n",
       "      <td>1990-07-02</td>\n",
       "      <td>-</td>\n",
       "      <td>40.38</td>\n",
       "      <td>ME - Men Elite</td>\n",
       "      <td>233.0</td>\n",
       "      <td>GT.A.Stage</td>\n",
       "      <td></td>\n",
       "      <td></td>\n",
       "      <td>NaN</td>\n",
       "      <td>Poitiers</td>\n",
       "      <td>Nantes</td>\n",
       "      <td>249</td>\n",
       "      <td>0</td>\n",
       "      <td>? - let us know!</td>\n",
       "      <td>tdf_3_1990</td>\n",
       "      <td>km</td>\n",
       "      <td>km/h</td>\n",
       "      <td>1990</td>\n",
       "    </tr>\n",
       "    <tr>\n",
       "      <th>3</th>\n",
       "      <td>1990-07-03</td>\n",
       "      <td>-</td>\n",
       "      <td>37.64</td>\n",
       "      <td>ME - Men Elite</td>\n",
       "      <td>203.0</td>\n",
       "      <td>GT.A.Stage</td>\n",
       "      <td></td>\n",
       "      <td></td>\n",
       "      <td>NaN</td>\n",
       "      <td>Nantes</td>\n",
       "      <td>Mont-Saint-Michel</td>\n",
       "      <td>249</td>\n",
       "      <td>0</td>\n",
       "      <td>? - let us know!</td>\n",
       "      <td>tdf_4_1990</td>\n",
       "      <td>km</td>\n",
       "      <td>km/h</td>\n",
       "      <td>1990</td>\n",
       "    </tr>\n",
       "    <tr>\n",
       "      <th>4</th>\n",
       "      <td>1990-07-04</td>\n",
       "      <td>-</td>\n",
       "      <td>39</td>\n",
       "      <td>ME - Men Elite</td>\n",
       "      <td>301.0</td>\n",
       "      <td>GT.A.Stage</td>\n",
       "      <td></td>\n",
       "      <td></td>\n",
       "      <td>NaN</td>\n",
       "      <td>Avranches</td>\n",
       "      <td>Rouen</td>\n",
       "      <td>249</td>\n",
       "      <td>0</td>\n",
       "      <td>? - let us know!</td>\n",
       "      <td>tdf_5_1990</td>\n",
       "      <td>km</td>\n",
       "      <td>km/h</td>\n",
       "      <td>1990</td>\n",
       "    </tr>\n",
       "    <tr>\n",
       "      <th>...</th>\n",
       "      <td>...</td>\n",
       "      <td>...</td>\n",
       "      <td>...</td>\n",
       "      <td>...</td>\n",
       "      <td>...</td>\n",
       "      <td>...</td>\n",
       "      <td>...</td>\n",
       "      <td>...</td>\n",
       "      <td>...</td>\n",
       "      <td>...</td>\n",
       "      <td>...</td>\n",
       "      <td>...</td>\n",
       "      <td>...</td>\n",
       "      <td>...</td>\n",
       "      <td>...</td>\n",
       "      <td>...</td>\n",
       "      <td>...</td>\n",
       "      <td>...</td>\n",
       "    </tr>\n",
       "    <tr>\n",
       "      <th>655</th>\n",
       "      <td>2021-07-14</td>\n",
       "      <td>12:10</td>\n",
       "      <td>35.267</td>\n",
       "      <td>ME - Men Elite</td>\n",
       "      <td>178.4</td>\n",
       "      <td>GT.A.Stage</td>\n",
       "      <td></td>\n",
       "      <td>450</td>\n",
       "      <td>4375.0</td>\n",
       "      <td>Muret</td>\n",
       "      <td>Saint-Lary-Soulan (Col du Portet)</td>\n",
       "      <td>1</td>\n",
       "      <td>1646</td>\n",
       "      <td>Sprint of small group</td>\n",
       "      <td>tdf_17_2021</td>\n",
       "      <td>km</td>\n",
       "      <td>km/h</td>\n",
       "      <td>2021</td>\n",
       "    </tr>\n",
       "    <tr>\n",
       "      <th>656</th>\n",
       "      <td>2021-07-15</td>\n",
       "      <td>13:50</td>\n",
       "      <td>36.407</td>\n",
       "      <td>ME - Men Elite</td>\n",
       "      <td>129.7</td>\n",
       "      <td>GT.A.Stage</td>\n",
       "      <td></td>\n",
       "      <td>367</td>\n",
       "      <td>3561.0</td>\n",
       "      <td>Pau</td>\n",
       "      <td>Luz Ardiden</td>\n",
       "      <td>1</td>\n",
       "      <td>1646</td>\n",
       "      <td>0.6 km solo</td>\n",
       "      <td>tdf_18_2021</td>\n",
       "      <td>km</td>\n",
       "      <td>km/h</td>\n",
       "      <td>2021</td>\n",
       "    </tr>\n",
       "    <tr>\n",
       "      <th>657</th>\n",
       "      <td>2021-07-16</td>\n",
       "      <td>12:30</td>\n",
       "      <td>47.901</td>\n",
       "      <td>ME - Men Elite</td>\n",
       "      <td>207.0</td>\n",
       "      <td>GT.A.Stage</td>\n",
       "      <td></td>\n",
       "      <td>16</td>\n",
       "      <td>1181.0</td>\n",
       "      <td>Mourenx</td>\n",
       "      <td>Libourne</td>\n",
       "      <td>1</td>\n",
       "      <td>1646</td>\n",
       "      <td>26 km solo</td>\n",
       "      <td>tdf_19_2021</td>\n",
       "      <td>km</td>\n",
       "      <td>km/h</td>\n",
       "      <td>2021</td>\n",
       "    </tr>\n",
       "    <tr>\n",
       "      <th>658</th>\n",
       "      <td>2021-07-17</td>\n",
       "      <td>13:05</td>\n",
       "      <td>51.5</td>\n",
       "      <td>ME - Men Elite</td>\n",
       "      <td>30.8</td>\n",
       "      <td>GT.A.Stage</td>\n",
       "      <td></td>\n",
       "      <td>8</td>\n",
       "      <td>246.0</td>\n",
       "      <td>Libourne</td>\n",
       "      <td>Saint-Émilion</td>\n",
       "      <td>1</td>\n",
       "      <td>1646</td>\n",
       "      <td>Time Trial</td>\n",
       "      <td>tdf_20_2021</td>\n",
       "      <td>km</td>\n",
       "      <td>km/h</td>\n",
       "      <td>2021</td>\n",
       "    </tr>\n",
       "    <tr>\n",
       "      <th>659</th>\n",
       "      <td>2021-07-18</td>\n",
       "      <td>16:30</td>\n",
       "      <td>40.748</td>\n",
       "      <td>ME - Men Elite</td>\n",
       "      <td>108.4</td>\n",
       "      <td>GT.A.Stage</td>\n",
       "      <td></td>\n",
       "      <td>14</td>\n",
       "      <td>697.0</td>\n",
       "      <td>Chatou</td>\n",
       "      <td>Paris Champs-Élysées</td>\n",
       "      <td>1</td>\n",
       "      <td>1646</td>\n",
       "      <td>Sprint of large group</td>\n",
       "      <td>tdf_21_2021</td>\n",
       "      <td>km</td>\n",
       "      <td>km/h</td>\n",
       "      <td>2021</td>\n",
       "    </tr>\n",
       "  </tbody>\n",
       "</table>\n",
       "<p>660 rows × 18 columns</p>\n",
       "</div>"
      ],
      "text/plain": [
       "           date start_time avg_speed   race_category  distance points_scale  \\\n",
       "0    1990-07-01          -     41.76  ME - Men Elite     138.5   GT.A.Stage   \n",
       "1    1990-07-01          -        50  ME - Men Elite      44.5     GT.A.TTT   \n",
       "2    1990-07-02          -     40.38  ME - Men Elite     233.0   GT.A.Stage   \n",
       "3    1990-07-03          -     37.64  ME - Men Elite     203.0   GT.A.Stage   \n",
       "4    1990-07-04          -        39  ME - Men Elite     301.0   GT.A.Stage   \n",
       "..          ...        ...       ...             ...       ...          ...   \n",
       "655  2021-07-14      12:10    35.267  ME - Men Elite     178.4   GT.A.Stage   \n",
       "656  2021-07-15      13:50    36.407  ME - Men Elite     129.7   GT.A.Stage   \n",
       "657  2021-07-16      12:30    47.901  ME - Men Elite     207.0   GT.A.Stage   \n",
       "658  2021-07-17      13:05      51.5  ME - Men Elite      30.8   GT.A.Stage   \n",
       "659  2021-07-18      16:30    40.748  ME - Men Elite     108.4   GT.A.Stage   \n",
       "\n",
       "    parcour_type profile_score  elevation    departure  \\\n",
       "0                                     NaN  Futuroscope   \n",
       "1                                     NaN  Futuroscope   \n",
       "2                                     NaN     Poitiers   \n",
       "3                                     NaN       Nantes   \n",
       "4                                     NaN    Avranches   \n",
       "..           ...           ...        ...          ...   \n",
       "655                        450     4375.0        Muret   \n",
       "656                        367     3561.0          Pau   \n",
       "657                         16     1181.0      Mourenx   \n",
       "658                          8      246.0     Libourne   \n",
       "659                         14      697.0       Chatou   \n",
       "\n",
       "                               arrival race_ranking startlist_quality_score  \\\n",
       "0                          Futuroscope          249                       0   \n",
       "1                          Futuroscope          249                       0   \n",
       "2                               Nantes          249                       0   \n",
       "3                    Mont-Saint-Michel          249                       0   \n",
       "4                                Rouen          249                       0   \n",
       "..                                 ...          ...                     ...   \n",
       "655  Saint-Lary-Soulan (Col du Portet)            1                    1646   \n",
       "656                        Luz Ardiden            1                    1646   \n",
       "657                           Libourne            1                    1646   \n",
       "658                      Saint-Émilion            1                    1646   \n",
       "659               Paris Champs-Élysées            1                    1646   \n",
       "\n",
       "                   won_how         race distance_units avg_speed_units  year  \n",
       "0         ? - let us know!   tdf_1_1990             km            km/h  1990  \n",
       "1               Time Trial   tdf_2_1990             km            km/h  1990  \n",
       "2         ? - let us know!   tdf_3_1990             km            km/h  1990  \n",
       "3         ? - let us know!   tdf_4_1990             km            km/h  1990  \n",
       "4         ? - let us know!   tdf_5_1990             km            km/h  1990  \n",
       "..                     ...          ...            ...             ...   ...  \n",
       "655  Sprint of small group  tdf_17_2021             km            km/h  2021  \n",
       "656            0.6 km solo  tdf_18_2021             km            km/h  2021  \n",
       "657             26 km solo  tdf_19_2021             km            km/h  2021  \n",
       "658             Time Trial  tdf_20_2021             km            km/h  2021  \n",
       "659  Sprint of large group  tdf_21_2021             km            km/h  2021  \n",
       "\n",
       "[660 rows x 18 columns]"
      ]
     },
     "execution_count": 264,
     "metadata": {},
     "output_type": "execute_result"
    }
   ],
   "source": [
    "df"
   ]
  },
  {
   "cell_type": "code",
   "execution_count": 265,
   "id": "d4257074-7d5c-46c8-b574-fddda282778c",
   "metadata": {},
   "outputs": [],
   "source": [
    "df_test = df[['year','distance','elevation']]"
   ]
  },
  {
   "cell_type": "code",
   "execution_count": 280,
   "id": "80df6960-9fef-40d9-bad2-3afa004ea4ad",
   "metadata": {},
   "outputs": [
    {
     "data": {
      "image/png": "[encoded data removed]",
      "text/plain": [
       "<Figure size 1296x864 with 2 Axes>"
      ]
     },
     "metadata": {
      "needs_background": "light"
     },
     "output_type": "display_data"
    }
   ],
   "source": [
    "for_plot = df_test.groupby(by='year').sum()\n",
    "plot_range = for_plot.index > 2000\n",
    "for_plot = for_plot.loc[plot_range]\n",
    "\n",
    "fig, ax1 = plt.subplots(figsize=(18, 12))\n",
    "\n",
    "ax2 = ax1.twinx()\n",
    "ax1.plot(for_plot.index, for_plot.distance, 'g-')\n",
    "ax2.plot(for_plot.index, for_plot.elevation, 'b-')\n",
    "\n",
    "ax1.set_xlabel('year')\n",
    "ax1.set_ylabel('distance', color='g')\n",
    "ax2.set_ylabel('elevation', color='b')\n",
    "\n",
    "plt.show()"
   ]
  },
  {
   "cell_type": "code",
   "execution_count": null,
   "id": "677241f9-7a49-4e43-8836-3b0d4492e763",
   "metadata": {},
   "outputs": [],
   "source": []
  },
  {
   "cell_type": "code",
   "execution_count": null,
   "id": "3c016593-928d-4a26-a54c-c1d0d9b3fa7d",
   "metadata": {},
   "outputs": [],
   "source": []
  }
 ],
 "metadata": {
  "kernelspec": {
   "display_name": "Python 3 (ipykernel)",
   "language": "python",
   "name": "python3"
  },
  "language_info": {
   "codemirror_mode": {
    "name": "ipython",
    "version": 3
   },
   "file_extension": ".py",
   "mimetype": "text/x-python",
   "name": "python",
   "nbconvert_exporter": "python",
   "pygments_lexer": "ipython3",
   "version": "3.9.7"
  }
 },
 "nbformat": 4,
 "nbformat_minor": 5
}
